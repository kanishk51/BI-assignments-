{
  "nbformat": 4,
  "nbformat_minor": 0,
  "metadata": {
    "colab": {
      "provenance": [],
      "authorship_tag": "ABX9TyO2dVX6pFN0ngXlY/lzKEtB",
      "include_colab_link": true
    },
    "kernelspec": {
      "name": "python3",
      "display_name": "Python 3"
    },
    "language_info": {
      "name": "python"
    }
  },
  "cells": [
    {
      "cell_type": "markdown",
      "metadata": {
        "id": "view-in-github",
        "colab_type": "text"
      },
      "source": [
        "<a href=\"https://colab.research.google.com/github/kanishk51/BI-assignments-/blob/main/LabEval_MCA1_202301028.ipynb\" target=\"_parent\"><img src=\"https://colab.research.google.com/assets/colab-badge.svg\" alt=\"Open In Colab\"/></a>"
      ]
    },
    {
      "cell_type": "code",
      "execution_count": 2,
      "metadata": {
        "colab": {
          "base_uri": "https://localhost:8080/"
        },
        "id": "hmmun6AqvpIF",
        "outputId": "6d14f8e9-2a3b-45e6-beee-e54b6ac37273"
      },
      "outputs": [
        {
          "output_type": "stream",
          "name": "stdout",
          "text": [
            "Matrix Product of the given matrices:\n",
            "[[16 19]\n",
            " [26 31]]\n",
            "\n",
            "Covariance between 2 matrices:\n",
            "[[0.5 0.5 0.5 0.5]\n",
            " [0.5 0.5 0.5 0.5]\n",
            " [0.5 0.5 0.5 0.5]\n",
            " [0.5 0.5 0.5 0.5]]\n"
          ]
        }
      ],
      "source": [
        "#Multiply the following matrices and also find covariance between matrices using\n",
        "#Numpy:i. p = [1,2],[2,3]]q=[[4,5],[6,7]]\n",
        "\n",
        "import numpy as np\n",
        "\n",
        "p = np.array([[1, 2], [2, 3]])\n",
        "q = np.array([[4, 5], [6, 7]])\n",
        "\n",
        "product = np.dot(p, q)\n",
        "print(\"Matrix Product of the given matrices:\")\n",
        "print(product)\n",
        "\n",
        "covariance = np.cov(p, q)\n",
        "print(\"\\nCovariance between 2 matrices:\")\n",
        "print(covariance)\n"
      ]
    }
  ]
}